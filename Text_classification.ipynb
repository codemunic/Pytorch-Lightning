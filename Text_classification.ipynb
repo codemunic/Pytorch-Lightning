{
  "nbformat": 4,
  "nbformat_minor": 0,
  "metadata": {
    "kernelspec": {
      "display_name": "Python 3",
      "language": "python",
      "name": "python3"
    },
    "language_info": {
      "codemirror_mode": {
        "name": "ipython",
        "version": 3
      },
      "file_extension": ".py",
      "mimetype": "text/x-python",
      "name": "python",
      "nbconvert_exporter": "python",
      "pygments_lexer": "ipython3",
      "version": "3.6.9"
    },
    "colab": {
      "name": "Text-classification.ipynb",
      "provenance": [],
      "collapsed_sections": [],
      "toc_visible": true
    },
    "accelerator": "GPU"
  },
  "cells": [
    {
      "cell_type": "markdown",
      "metadata": {
        "id": "DfEeOZiZ9f9S"
      },
      "source": [
        "https://github.com/bentrevett/pytorch-text-classification"
      ]
    },
    {
      "cell_type": "code",
      "metadata": {
        "scrolled": true,
        "id": "sH7BFa5t0Ytw"
      },
      "source": [
        "import utils\n",
        "import functools\n",
        "import numpy as np\n",
        "import matplotlib.pyplot as plt\n",
        "import datasets\n",
        "import collections\n",
        "import torch\n",
        "import random\n",
        "import spacy\n",
        "import pytorch_lightning as pl\n",
        "import torch.nn as nn\n",
        "import torch.nn.functional as F\n",
        "import torch.optim as optim\n",
        "import tqdm"
      ],
      "execution_count": 5,
      "outputs": []
    },
    {
      "cell_type": "code",
      "metadata": {
        "id": "3Pchzgy50Yt3"
      },
      "source": [
        "seed = 1234\n",
        "\n",
        "torch.manual_seed(seed)\n",
        "random.seed(seed)\n",
        "torch.backends.cudnn.deterministic = True\n",
        "torch.backends.cudnn.benchmark = False"
      ],
      "execution_count": 6,
      "outputs": []
    },
    {
      "cell_type": "code",
      "metadata": {
        "id": "XQwmVBwt0Yt4"
      },
      "source": [
        "%load_ext autoreload\n",
        "%autoreload 2"
      ],
      "execution_count": 7,
      "outputs": []
    },
    {
      "cell_type": "markdown",
      "metadata": {
        "id": "TfMSG_4P0Yt5"
      },
      "source": [
        "# Loading the Dataset"
      ]
    },
    {
      "cell_type": "code",
      "metadata": {
        "colab": {
          "base_uri": "https://localhost:8080/"
        },
        "id": "WcD9rYBE0Yt5",
        "outputId": "84eca30c-f0f3-4fc4-e9d9-49a7188a7b63"
      },
      "source": [
        "imdb = datasets.load_dataset('imdb')"
      ],
      "execution_count": 8,
      "outputs": [
        {
          "output_type": "stream",
          "text": [
            "Reusing dataset imdb (/root/.cache/huggingface/datasets/imdb/plain_text/1.0.0/90099cb476936b753383ba2ae6ab2eae419b2e87f71cd5189cb9c8e5814d12a3)\n"
          ],
          "name": "stderr"
        }
      ]
    },
    {
      "cell_type": "code",
      "metadata": {
        "colab": {
          "base_uri": "https://localhost:8080/"
        },
        "id": "sQFAzWfq0Yt6",
        "outputId": "e7481862-7f95-48b3-9b6c-3395194ae53c"
      },
      "source": [
        "imdb"
      ],
      "execution_count": 9,
      "outputs": [
        {
          "output_type": "execute_result",
          "data": {
            "text/plain": [
              "DatasetDict({\n",
              "    train: Dataset({\n",
              "        features: ['text', 'label'],\n",
              "        num_rows: 25000\n",
              "    })\n",
              "    test: Dataset({\n",
              "        features: ['text', 'label'],\n",
              "        num_rows: 25000\n",
              "    })\n",
              "    unsupervised: Dataset({\n",
              "        features: ['text', 'label'],\n",
              "        num_rows: 50000\n",
              "    })\n",
              "})"
            ]
          },
          "metadata": {
            "tags": []
          },
          "execution_count": 9
        }
      ]
    },
    {
      "cell_type": "code",
      "metadata": {
        "colab": {
          "base_uri": "https://localhost:8080/"
        },
        "id": "_dkgn_Nj0Yt7",
        "outputId": "839e77ee-6f65-4a67-bc93-bd0f708caeb8"
      },
      "source": [
        "imdb['train'][0]"
      ],
      "execution_count": 10,
      "outputs": [
        {
          "output_type": "execute_result",
          "data": {
            "text/plain": [
              "{'label': 1,\n",
              " 'text': 'Bromwell High is a cartoon comedy. It ran at the same time as some other programs about school life, such as \"Teachers\". My 35 years in the teaching profession lead me to believe that Bromwell High\\'s satire is much closer to reality than is \"Teachers\". The scramble to survive financially, the insightful students who can see right through their pathetic teachers\\' pomp, the pettiness of the whole situation, all remind me of the schools I knew and their students. When I saw the episode in which a student repeatedly tried to burn down the school, I immediately recalled ......... at .......... High. A classic line: INSPECTOR: I\\'m here to sack one of your teachers. STUDENT: Welcome to Bromwell High. I expect that many adults of my age think that Bromwell High is far fetched. What a pity that it isn\\'t!'}"
            ]
          },
          "metadata": {
            "tags": []
          },
          "execution_count": 10
        }
      ]
    },
    {
      "cell_type": "code",
      "metadata": {
        "colab": {
          "base_uri": "https://localhost:8080/"
        },
        "id": "Pp0FGJD00Yt7",
        "outputId": "9cc2aed5-c755-42c9-b225-3fc2cdfe2cc2"
      },
      "source": [
        "train_data, test_data = datasets.load_dataset('imdb', split=['train','test'])"
      ],
      "execution_count": 11,
      "outputs": [
        {
          "output_type": "stream",
          "text": [
            "Reusing dataset imdb (/root/.cache/huggingface/datasets/imdb/plain_text/1.0.0/90099cb476936b753383ba2ae6ab2eae419b2e87f71cd5189cb9c8e5814d12a3)\n"
          ],
          "name": "stderr"
        }
      ]
    },
    {
      "cell_type": "code",
      "metadata": {
        "colab": {
          "base_uri": "https://localhost:8080/"
        },
        "id": "lcZO19Fn0Yt8",
        "outputId": "b69d58f1-3580-444a-f0d9-f332042d6712"
      },
      "source": [
        "print(len(train_data),len(test_data))"
      ],
      "execution_count": 12,
      "outputs": [
        {
          "output_type": "stream",
          "text": [
            "25000 25000\n"
          ],
          "name": "stdout"
        }
      ]
    },
    {
      "cell_type": "code",
      "metadata": {
        "colab": {
          "base_uri": "https://localhost:8080/"
        },
        "id": "p2nuVsCg0Yt8",
        "outputId": "60363830-d705-4fbc-937d-819c790f51eb"
      },
      "source": [
        "print(train_data[0])"
      ],
      "execution_count": 13,
      "outputs": [
        {
          "output_type": "stream",
          "text": [
            "{'label': 1, 'text': 'Bromwell High is a cartoon comedy. It ran at the same time as some other programs about school life, such as \"Teachers\". My 35 years in the teaching profession lead me to believe that Bromwell High\\'s satire is much closer to reality than is \"Teachers\". The scramble to survive financially, the insightful students who can see right through their pathetic teachers\\' pomp, the pettiness of the whole situation, all remind me of the schools I knew and their students. When I saw the episode in which a student repeatedly tried to burn down the school, I immediately recalled ......... at .......... High. A classic line: INSPECTOR: I\\'m here to sack one of your teachers. STUDENT: Welcome to Bromwell High. I expect that many adults of my age think that Bromwell High is far fetched. What a pity that it isn\\'t!'}\n"
          ],
          "name": "stdout"
        }
      ]
    },
    {
      "cell_type": "code",
      "metadata": {
        "id": "kq9PzDX80Yt9"
      },
      "source": [
        "def get_train_valid_split(train_data, valid_ratio = 0.2, shuffle = True):\n",
        "    data = train_data.train_test_split(test_size = valid_ratio, shuffle=shuffle)\n",
        "    train_data = data['train']\n",
        "    valid_data = data['test']\n",
        "    return train_data, valid_data"
      ],
      "execution_count": 14,
      "outputs": []
    },
    {
      "cell_type": "code",
      "metadata": {
        "colab": {
          "base_uri": "https://localhost:8080/"
        },
        "id": "SYK3pTNy0Yt-",
        "outputId": "95d55e5f-3cb4-4a63-b455-475b721daf98"
      },
      "source": [
        "train_data, valid_data = get_train_valid_split(train_data, 0.2, True)"
      ],
      "execution_count": 15,
      "outputs": [
        {
          "output_type": "stream",
          "text": [
            "Loading cached split indices for dataset at /root/.cache/huggingface/datasets/imdb/plain_text/1.0.0/90099cb476936b753383ba2ae6ab2eae419b2e87f71cd5189cb9c8e5814d12a3/cache-a76c42879a7d62bf.arrow and /root/.cache/huggingface/datasets/imdb/plain_text/1.0.0/90099cb476936b753383ba2ae6ab2eae419b2e87f71cd5189cb9c8e5814d12a3/cache-80e03183e3efcbd4.arrow\n"
          ],
          "name": "stderr"
        }
      ]
    },
    {
      "cell_type": "code",
      "metadata": {
        "colab": {
          "base_uri": "https://localhost:8080/"
        },
        "id": "Iz9dHQe90Yt_",
        "outputId": "6abb0523-9886-4211-c954-b598d505f0b2"
      },
      "source": [
        "print(len(train_data), len(valid_data))"
      ],
      "execution_count": 16,
      "outputs": [
        {
          "output_type": "stream",
          "text": [
            "20000 5000\n"
          ],
          "name": "stdout"
        }
      ]
    },
    {
      "cell_type": "markdown",
      "metadata": {
        "id": "jifu7UFW0Yt_"
      },
      "source": [
        "# Tokenizing the Data"
      ]
    },
    {
      "cell_type": "code",
      "metadata": {
        "id": "ZQmB8zst0Yt_"
      },
      "source": [
        "tokenizer_fn = lambda x: x.split()"
      ],
      "execution_count": 17,
      "outputs": []
    },
    {
      "cell_type": "code",
      "metadata": {
        "id": "bhHt0ItK0YuA"
      },
      "source": [
        "tokenizer = utils.tokenizer.Tokenizer(tokenizer_fn)"
      ],
      "execution_count": 18,
      "outputs": []
    },
    {
      "cell_type": "code",
      "metadata": {
        "id": "GdUbQkRT0YuA"
      },
      "source": [
        "example_string = \"Hello Guys!! What's going on?\""
      ],
      "execution_count": 19,
      "outputs": []
    },
    {
      "cell_type": "code",
      "metadata": {
        "colab": {
          "base_uri": "https://localhost:8080/"
        },
        "id": "kDCuDNDy0YuB",
        "outputId": "a2125c55-c672-4ec8-a7e6-feee470f9f4b"
      },
      "source": [
        "print(tokenizer.tokenize(example_string))"
      ],
      "execution_count": 20,
      "outputs": [
        {
          "output_type": "stream",
          "text": [
            "['Hello', 'Guys!!', \"What's\", 'going', 'on?']\n"
          ],
          "name": "stdout"
        }
      ]
    },
    {
      "cell_type": "code",
      "metadata": {
        "id": "eKhY_pT90YuB"
      },
      "source": [
        "import spacy\n",
        "nlp = spacy.load('en_core_web_sm')\n",
        "\n",
        "def spacy_tokenize(s:str, nlp:spacy.lang):\n",
        "    return [t.text for t in nlp.tokenizer(s)]"
      ],
      "execution_count": 21,
      "outputs": []
    },
    {
      "cell_type": "code",
      "metadata": {
        "colab": {
          "base_uri": "https://localhost:8080/"
        },
        "id": "vnTzYQyr0YuB",
        "outputId": "a76f5e35-d198-4d55-aa7a-19bbf228bf79"
      },
      "source": [
        "print(spacy_tokenize(example_string,nlp))"
      ],
      "execution_count": 22,
      "outputs": [
        {
          "output_type": "stream",
          "text": [
            "['Hello', 'Guys', '!', '!', 'What', \"'s\", 'going', 'on', '?']\n"
          ],
          "name": "stdout"
        }
      ]
    },
    {
      "cell_type": "code",
      "metadata": {
        "id": "kyjUM5n30YuC"
      },
      "source": [
        "_spacy_tokenize = functools.partial(spacy_tokenize, nlp = nlp)"
      ],
      "execution_count": 23,
      "outputs": []
    },
    {
      "cell_type": "code",
      "metadata": {
        "colab": {
          "base_uri": "https://localhost:8080/"
        },
        "id": "euQXsH6C0YuC",
        "outputId": "3496bb87-c25f-4bd6-d7f4-f957f6fba18b"
      },
      "source": [
        "print(_spacy_tokenize(example_string))"
      ],
      "execution_count": 24,
      "outputs": [
        {
          "output_type": "stream",
          "text": [
            "['Hello', 'Guys', '!', '!', 'What', \"'s\", 'going', 'on', '?']\n"
          ],
          "name": "stdout"
        }
      ]
    },
    {
      "cell_type": "code",
      "metadata": {
        "id": "i9pqrnGZ0YuD"
      },
      "source": [
        "tokenizer = utils.tokenizer.Tokenizer(_spacy_tokenize)"
      ],
      "execution_count": 25,
      "outputs": []
    },
    {
      "cell_type": "code",
      "metadata": {
        "colab": {
          "base_uri": "https://localhost:8080/"
        },
        "id": "b6nWYNCM0YuD",
        "outputId": "a3b577fc-14fb-4369-b4cb-73c5eccf90bc"
      },
      "source": [
        "tokenizer.tokenize(example_string)"
      ],
      "execution_count": 26,
      "outputs": [
        {
          "output_type": "execute_result",
          "data": {
            "text/plain": [
              "['Hello', 'Guys', '!', '!', 'What', \"'s\", 'going', 'on', '?']"
            ]
          },
          "metadata": {
            "tags": []
          },
          "execution_count": 26
        }
      ]
    },
    {
      "cell_type": "markdown",
      "metadata": {
        "id": "KukaWlga0YuD"
      },
      "source": [
        "# Building Vocabulary"
      ]
    },
    {
      "cell_type": "code",
      "metadata": {
        "id": "3gxXAcCU0YuE"
      },
      "source": [
        "field = 'text'\n",
        "\n",
        "counter = utils.vocab.build_vocab_counter(train_data, field, tokenizer)"
      ],
      "execution_count": 27,
      "outputs": []
    },
    {
      "cell_type": "code",
      "metadata": {
        "colab": {
          "base_uri": "https://localhost:8080/"
        },
        "id": "ufiKkiOj0YuE",
        "outputId": "2de98c34-a943-4549-c01d-2481ca68c90f"
      },
      "source": [
        "counter.most_common(10)"
      ],
      "execution_count": 28,
      "outputs": [
        {
          "output_type": "execute_result",
          "data": {
            "text/plain": [
              "[('the', 232322),\n",
              " (',', 220773),\n",
              " ('.', 190010),\n",
              " ('a', 125392),\n",
              " ('and', 125259),\n",
              " ('of', 115263),\n",
              " ('to', 107115),\n",
              " ('is', 87381),\n",
              " ('in', 70335),\n",
              " ('I', 61975)]"
            ]
          },
          "metadata": {
            "tags": []
          },
          "execution_count": 28
        }
      ]
    },
    {
      "cell_type": "code",
      "metadata": {
        "id": "nWQQP3wd0YuE"
      },
      "source": [
        "min_freq = 6\n",
        "max_size = 30_000\n",
        "\n",
        "vocab = utils.vocab.Vocab(counter, min_freq, max_size)"
      ],
      "execution_count": 29,
      "outputs": []
    },
    {
      "cell_type": "code",
      "metadata": {
        "colab": {
          "base_uri": "https://localhost:8080/"
        },
        "id": "OK8-5nz70YuF",
        "outputId": "f86d437d-3eca-44f6-9c4a-08e23a19324e"
      },
      "source": [
        "len(vocab)"
      ],
      "execution_count": 30,
      "outputs": [
        {
          "output_type": "execute_result",
          "data": {
            "text/plain": [
              "28392"
            ]
          },
          "metadata": {
            "tags": []
          },
          "execution_count": 30
        }
      ]
    },
    {
      "cell_type": "code",
      "metadata": {
        "colab": {
          "base_uri": "https://localhost:8080/"
        },
        "id": "WKSKv81K0YuF",
        "outputId": "581302f4-a89b-4b01-900b-3e5542592220"
      },
      "source": [
        "example_string = 'Hello world! How is everyone doing today?'\n",
        "\n",
        "example_tokens = tokenizer.tokenize(example_string)\n",
        "\n",
        "print(example_tokens)"
      ],
      "execution_count": 31,
      "outputs": [
        {
          "output_type": "stream",
          "text": [
            "['Hello', 'world', '!', 'How', 'is', 'everyone', 'doing', 'today', '?']\n"
          ],
          "name": "stdout"
        }
      ]
    },
    {
      "cell_type": "code",
      "metadata": {
        "colab": {
          "base_uri": "https://localhost:8080/"
        },
        "id": "8922twfn0YuF",
        "outputId": "5cd7f138-9090-44d4-c8a0-ce759d756e4f"
      },
      "source": [
        "vocab.stoi(example_tokens)"
      ],
      "execution_count": 32,
      "outputs": [
        {
          "output_type": "execute_result",
          "data": {
            "text/plain": [
              "[7589, 223, 42, 568, 9, 353, 428, 572, 58]"
            ]
          },
          "metadata": {
            "tags": []
          },
          "execution_count": 32
        }
      ]
    },
    {
      "cell_type": "code",
      "metadata": {
        "colab": {
          "base_uri": "https://localhost:8080/"
        },
        "id": "tNs-7U3U0YuG",
        "outputId": "c3a19a08-8d65-4d0e-e56c-f190690637eb"
      },
      "source": [
        "vocab.itos(vocab.stoi(example_tokens))"
      ],
      "execution_count": 33,
      "outputs": [
        {
          "output_type": "execute_result",
          "data": {
            "text/plain": [
              "['Hello', 'world', '!', 'How', 'is', 'everyone', 'doing', 'today', '?']"
            ]
          },
          "metadata": {
            "tags": []
          },
          "execution_count": 33
        }
      ]
    },
    {
      "cell_type": "code",
      "metadata": {
        "colab": {
          "base_uri": "https://localhost:8080/"
        },
        "id": "wZQN_Pi10YuG",
        "outputId": "895f6092-9aac-4203-9343-2ed62f5b97cc"
      },
      "source": [
        "example_string = 'My best friend is named Cthulhu'\n",
        "\n",
        "example_tokens = tokenizer.tokenize(example_string)\n",
        "\n",
        "vocab.itos(vocab.stoi(example_tokens))"
      ],
      "execution_count": 34,
      "outputs": [
        {
          "output_type": "execute_result",
          "data": {
            "text/plain": [
              "['My', 'best', 'friend', 'is', 'named', '<unk>']"
            ]
          },
          "metadata": {
            "tags": []
          },
          "execution_count": 34
        }
      ]
    },
    {
      "cell_type": "markdown",
      "metadata": {
        "id": "Q9_nF0ct0YuG"
      },
      "source": [
        "# Creating the DataLoader"
      ]
    },
    {
      "cell_type": "code",
      "metadata": {
        "id": "YsStbzwo0YuH"
      },
      "source": [
        "text_transforms = utils.transforms.sequential_transforms(tokenizer.tokenize,\n",
        "                                                           vocab.stoi,\n",
        "                                                           utils.transforms.to_longtensor)"
      ],
      "execution_count": 35,
      "outputs": []
    },
    {
      "cell_type": "code",
      "metadata": {
        "id": "ylUIe9I40YuH"
      },
      "source": [
        "label_transforms = utils.transforms.sequential_transforms(utils.transforms.to_longtensor)"
      ],
      "execution_count": 36,
      "outputs": []
    },
    {
      "cell_type": "code",
      "metadata": {
        "id": "Cj1TrK330YuH"
      },
      "source": [
        "train_dataset = utils.dataset.TextClassificationDataset(train_data, text_transforms, label_transforms)"
      ],
      "execution_count": 37,
      "outputs": []
    },
    {
      "cell_type": "code",
      "metadata": {
        "colab": {
          "base_uri": "https://localhost:8080/"
        },
        "id": "SXVSLR5q0YuI",
        "outputId": "196b368a-96ab-409f-e3a9-3b525d3b4cc3"
      },
      "source": [
        "train_dataset[0]"
      ],
      "execution_count": 38,
      "outputs": [
        {
          "output_type": "execute_result",
          "data": {
            "text/plain": [
              "(tensor([ 7471,  2611,    11,   277,     8,    36,    43,   348,   835,    18,\n",
              "           706,    31,    47,  5532,    15,  4418,    31,   264,    47,  2950,\n",
              "            18,  4014,     2,    22,     9,   176,     6,    67,    32,    82,\n",
              "           343,   322,     6,    59,     7,     2,   131,    69,   648,    36,\n",
              "           144,  2159,    20,    14,   993,    14,    26,     2,    75,     9,\n",
              "         16570,    18,   116,    75,     7,   110,     2,   223,    69,    36,\n",
              "             6,   112,  1675,    30,  1023,     9,    62,     0,    18,  2536,\n",
              "             2,   150,     2,   925,    19,    29,     5,   925,    26,     2,\n",
              "            75, 12992,    10,    43,   850,    40,     2,   233, 22121,    18,\n",
              "           425,    15,  9305,   713,   293,  4712,    63,    36,    14,  2067,\n",
              "          4368,    14,    10,  1338,     7,   110,     2,  1173,     9,   644,\n",
              "             8,    36,   907,    17,   223,   790,     4]), tensor(1))"
            ]
          },
          "metadata": {
            "tags": []
          },
          "execution_count": 38
        }
      ]
    },
    {
      "cell_type": "code",
      "metadata": {
        "colab": {
          "base_uri": "https://localhost:8080/"
        },
        "id": "VTRxZiml0YuI",
        "outputId": "2a6e58d6-f97c-468f-98d8-2d87eca2124b"
      },
      "source": [
        "train_dataset.data[0]"
      ],
      "execution_count": 39,
      "outputs": [
        {
          "output_type": "execute_result",
          "data": {
            "text/plain": [
              "{'label': 1,\n",
              " 'text': 'Soylent Green I found to be an excellent movie.<br /><br />If you like Logan\\'s Run you\\'ll like this.<br /><br />Yes the movie is old and there are no special effects and some of the acting can somewhat be best described as \"cheesy\" but the story is excellent.<br /><br />The story of how the world can be and its impact on society is very poignant.<br /><br />At the end the mystery wasn\\'t a mystery but the story unfolded in an easy at the right pace.<br /><br />It\\'s nearest modern day equivalent would be \"Dark Angel\" in terms of how the US is shown to be third-world country.'}"
            ]
          },
          "metadata": {
            "tags": []
          },
          "execution_count": 39
        }
      ]
    },
    {
      "cell_type": "code",
      "metadata": {
        "colab": {
          "base_uri": "https://localhost:8080/"
        },
        "id": "iECNav7v0YuI",
        "outputId": "413895aa-8a87-497f-9f4a-5223a2280952"
      },
      "source": [
        "vocab.stoi('Soylent')"
      ],
      "execution_count": 40,
      "outputs": [
        {
          "output_type": "execute_result",
          "data": {
            "text/plain": [
              "7471"
            ]
          },
          "metadata": {
            "tags": []
          },
          "execution_count": 40
        }
      ]
    },
    {
      "cell_type": "code",
      "metadata": {
        "id": "ECj1O5pW0YuJ"
      },
      "source": [
        "valid_dataset = utils.dataset.TextClassificationDataset(valid_data, text_transforms, label_transforms)"
      ],
      "execution_count": 41,
      "outputs": []
    },
    {
      "cell_type": "code",
      "metadata": {
        "id": "QzGo_pxA0YuJ"
      },
      "source": [
        "test_dataset = utils.dataset.TextClassificationDataset(test_data, text_transforms, label_transforms)"
      ],
      "execution_count": 42,
      "outputs": []
    },
    {
      "cell_type": "code",
      "metadata": {
        "colab": {
          "base_uri": "https://localhost:8080/"
        },
        "id": "5r8gQJ4j0YuJ",
        "outputId": "cd05ad01-f75b-4457-b085-ec256d260708"
      },
      "source": [
        "pad_idx = vocab.stoi(vocab.pad_token)\n",
        "\n",
        "print(pad_idx)"
      ],
      "execution_count": 43,
      "outputs": [
        {
          "output_type": "stream",
          "text": [
            "1\n"
          ],
          "name": "stdout"
        }
      ]
    },
    {
      "cell_type": "code",
      "metadata": {
        "id": "YNbhNIdQ0YuJ"
      },
      "source": [
        "collator = utils.collator.TextClassificationCollator(pad_idx)"
      ],
      "execution_count": 44,
      "outputs": []
    },
    {
      "cell_type": "code",
      "metadata": {
        "id": "BNlcjPNM0YuK"
      },
      "source": [
        "batch_size = 256"
      ],
      "execution_count": 45,
      "outputs": []
    },
    {
      "cell_type": "code",
      "metadata": {
        "id": "vKdgjpMn0YuN"
      },
      "source": [
        "train_loader = torch.utils.data.DataLoader(train_dataset,\n",
        "                                          batch_size= batch_size,\n",
        "                                          shuffle = True,\n",
        "                                          collate_fn = collator.collate,\n",
        "                                          num_workers = torch.get_num_threads())"
      ],
      "execution_count": 64,
      "outputs": []
    },
    {
      "cell_type": "code",
      "metadata": {
        "id": "RLOfVvzy0YuN"
      },
      "source": [
        "valid_loader = torch.utils.data.DataLoader(valid_dataset,\n",
        "                                          batch_size = batch_size,\n",
        "                                          shuffle = False,\n",
        "                                          collate_fn = collator.collate,\n",
        "                                          num_workers = torch.get_num_threads())"
      ],
      "execution_count": 65,
      "outputs": []
    },
    {
      "cell_type": "code",
      "metadata": {
        "id": "Lw48aTDe0YuO"
      },
      "source": [
        "test_loader = torch.utils.data.DataLoader(test_dataset,\n",
        "                                          batch_size = batch_size,\n",
        "                                          shuffle = False,\n",
        "                                          collate_fn = collator.collate,\n",
        "                                          num_workers = torch.get_num_threads())"
      ],
      "execution_count": 66,
      "outputs": []
    },
    {
      "cell_type": "markdown",
      "metadata": {
        "id": "yEQkxl7O0YuO"
      },
      "source": [
        "# Creating the NBOW model"
      ]
    },
    {
      "cell_type": "code",
      "metadata": {
        "id": "P16NuQ4C0YuP"
      },
      "source": [
        "class NBOW(pl.LightningModule):\n",
        "    def __init__(self, input_dim: int, emb_dim: int, output_dim: int, pad_idx: int):\n",
        "        super().__init__()\n",
        "        self.embedding = nn.Embedding(input_dim, emb_dim, padding_idx=pad_idx)\n",
        "        self.fc = nn.Linear(emb_dim, output_dim)\n",
        "        \n",
        "    def forward(self, text:torch.LongTensor) -> torch.FloatTensor:\n",
        "        #text[seq_len, batch_size]\n",
        "        embedded = self.embedding(text)\n",
        "        #embedded[seq_len, batch_size, emb_dim]\n",
        "        pooled = embedded.mean(0)\n",
        "        #pooled[batch_size,emb_dim]\n",
        "        prediction = self.fc(pooled)\n",
        "        #prediction[batch_size,output_dim]\n",
        "        return prediction\n",
        "    \n",
        "    def training_step(self,batch,batch_idx):\n",
        "        text,labels = batch\n",
        "        #text[seq_len,bs]\n",
        "        #labels[bs]\n",
        "        predictions = self.forward(text)\n",
        "        #predictions[bs,2]\n",
        "        loss = F.cross_entropy(predictions, labels)\n",
        "        acc = utils.util.calculate_accuracy(predictions,labels)\n",
        "        return {'loss':loss, 'acc':acc}\n",
        "        \n",
        "    def training_epoch_end(self,training_step_outputs):\n",
        "        loss,acc = self.calculate_metrics(training_step_outputs)\n",
        "        print(f'Epoch: {self.current_epoch:2}')\n",
        "        print(f' Train_loss: {loss:.3f}  | Train_acc: {acc*100:.2f}%')\n",
        "        \n",
        "    def validation_step(self, batch, batch_idx):\n",
        "        text, labels = batch\n",
        "        predictions = self.forward(text)\n",
        "        loss = F.cross_entropy(predictions, labels)\n",
        "        acc = utils.util.calculate_accuracy(predictions, labels)\n",
        "        self.log('valid_loss', loss)\n",
        "        return {'loss': loss, 'acc':acc}\n",
        "    \n",
        "    def validation_epoch_end(self,validation_step_outputs):\n",
        "        loss, acc = self.calculate_metrics(validation_step_outputs)\n",
        "        print(f' valid_loss: {loss:.3f} | valid_acc: {acc*100:.2f}%')\n",
        "        \n",
        "    def test_step(self, batch, batch_idx):\n",
        "        text,labels = batch\n",
        "        predictions = self.forward(text)\n",
        "        loss = F.cross_entropy(predictions, labels)\n",
        "        acc = utils.util.calculate_accuracy(predictions, labels)\n",
        "        return {'loss': loss, 'acc': acc}\n",
        "    \n",
        "    def test_epoch_end(self,test_step_outputs):\n",
        "        loss, acc = self.calculate_metrics(test_step_outputs)\n",
        "        print(f' test_loss: {loss:.3f} | acc: {acc}')\n",
        "        \n",
        "    def configure_optimizers(self):\n",
        "        return optim.Adam(self.parameters())\n",
        "    \n",
        "    def calculate_metrics(self, step_outputs):\n",
        "        loss = torch.mean(torch.stack([x['loss'] for x in step_outputs]))\n",
        "        acc = torch.mean(torch.stack([x['acc'] for x in step_outputs]))\n",
        "        return loss, acc"
      ],
      "execution_count": 74,
      "outputs": []
    },
    {
      "cell_type": "code",
      "metadata": {
        "id": "37_RaoZG0YuQ"
      },
      "source": [
        "input_dim = len(vocab)\n",
        "emb_dim = 100\n",
        "output_dim = 2\n",
        "\n",
        "model = NBOW(input_dim, emb_dim, output_dim, pad_idx)"
      ],
      "execution_count": 75,
      "outputs": []
    },
    {
      "cell_type": "code",
      "metadata": {
        "id": "aCsMMdVr0YuR"
      },
      "source": [
        "early_stopping_callback = pl.callbacks.EarlyStopping(monitor='valid_loss',\n",
        "                                                    mode='min',\n",
        "                                                    patience=0)"
      ],
      "execution_count": 76,
      "outputs": []
    },
    {
      "cell_type": "code",
      "metadata": {
        "id": "OXCHM4p20YuR"
      },
      "source": [
        "checkpoint_callback = pl.callbacks.ModelCheckpoint(monitor='valid_loss',\n",
        "                                                  mode='min')"
      ],
      "execution_count": 77,
      "outputs": []
    },
    {
      "cell_type": "code",
      "metadata": {
        "colab": {
          "base_uri": "https://localhost:8080/"
        },
        "id": "8bNL47aK0YuR",
        "outputId": "a74c086b-ba91-4b24-c87c-d23b85f29466"
      },
      "source": [
        "trainer = pl.Trainer(max_epochs=10,\n",
        "                    gpus=1,\n",
        "                    callbacks=[early_stopping_callback,\n",
        "                              checkpoint_callback],\n",
        "                    deterministic=True,\n",
        "                    num_sanity_val_steps=0,\n",
        "                    progress_bar_refresh_rate=0)"
      ],
      "execution_count": 78,
      "outputs": [
        {
          "output_type": "stream",
          "text": [
            "GPU available: True, used: True\n",
            "TPU available: False, using: 0 TPU cores\n"
          ],
          "name": "stderr"
        }
      ]
    },
    {
      "cell_type": "code",
      "metadata": {
        "colab": {
          "base_uri": "https://localhost:8080/"
        },
        "id": "n--F4uAs0YuS",
        "outputId": "8e608787-c3c9-469c-c7be-3e1111382b32"
      },
      "source": [
        "_ = trainer.fit(model,train_loader,valid_loader)"
      ],
      "execution_count": 79,
      "outputs": [
        {
          "output_type": "stream",
          "text": [
            "LOCAL_RANK: 0 - CUDA_VISIBLE_DEVICES: [0]\n",
            "\n",
            "  | Name      | Type      | Params\n",
            "----------------------------------------\n",
            "0 | embedding | Embedding | 2.8 M \n",
            "1 | fc        | Linear    | 202   \n",
            "----------------------------------------\n",
            "2.8 M     Trainable params\n",
            "0         Non-trainable params\n",
            "2.8 M     Total params\n",
            "11.358    Total estimated model params size (MB)\n"
          ],
          "name": "stderr"
        },
        {
          "output_type": "stream",
          "text": [
            "Epoch:  0\n",
            " Train_loss: 0.690  | Train_acc: 54.09%\n",
            " valid_loss: 0.685 | valid_acc: 61.92%\n",
            "Epoch:  1\n",
            " Train_loss: 0.676  | Train_acc: 67.47%\n",
            " valid_loss: 0.667 | valid_acc: 68.67%\n",
            "Epoch:  2\n",
            " Train_loss: 0.648  | Train_acc: 72.32%\n",
            " valid_loss: 0.637 | valid_acc: 73.08%\n",
            "Epoch:  3\n",
            " Train_loss: 0.609  | Train_acc: 75.83%\n",
            " valid_loss: 0.600 | valid_acc: 75.74%\n",
            "Epoch:  4\n",
            " Train_loss: 0.566  | Train_acc: 78.62%\n",
            " valid_loss: 0.563 | valid_acc: 78.25%\n",
            "Epoch:  5\n",
            " Train_loss: 0.523  | Train_acc: 81.22%\n",
            " valid_loss: 0.528 | valid_acc: 80.31%\n",
            "Epoch:  6\n",
            " Train_loss: 0.483  | Train_acc: 83.41%\n",
            " valid_loss: 0.496 | valid_acc: 81.86%\n",
            "Epoch:  7\n",
            " Train_loss: 0.447  | Train_acc: 85.31%\n",
            " valid_loss: 0.468 | valid_acc: 83.18%\n",
            "Epoch:  8\n",
            " Train_loss: 0.416  | Train_acc: 86.57%\n",
            " valid_loss: 0.444 | valid_acc: 84.16%\n",
            "Epoch:  9\n",
            " Train_loss: 0.389  | Train_acc: 87.67%\n",
            " valid_loss: 0.424 | valid_acc: 85.09%\n"
          ],
          "name": "stdout"
        }
      ]
    },
    {
      "cell_type": "code",
      "metadata": {
        "colab": {
          "base_uri": "https://localhost:8080/"
        },
        "id": "AsgX7hym0YuS",
        "outputId": "9494e884-7a13-42fe-f53a-979388905139"
      },
      "source": [
        "_ = trainer.test(test_dataloaders=test_loader, verbose=False)"
      ],
      "execution_count": 80,
      "outputs": [
        {
          "output_type": "stream",
          "text": [
            "LOCAL_RANK: 0 - CUDA_VISIBLE_DEVICES: [0]\n"
          ],
          "name": "stderr"
        },
        {
          "output_type": "stream",
          "text": [
            " test_loss: 0.423 | acc: 0.845241904258728\n"
          ],
          "name": "stdout"
        }
      ]
    },
    {
      "cell_type": "code",
      "metadata": {
        "id": "LqGTaPV90YuS"
      },
      "source": [
        "def predict(sentence, text_transforms, model):\n",
        "    model.eval()\n",
        "    tensor = text_transforms(sentence).unsqueeze(-1).to(model.device)\n",
        "    prediction = model(tensor)\n",
        "    probabilities = nn.functional.softmax(prediction,dim=-1)\n",
        "    pos_probability = probabilities.squeeze(0)[-1].item()\n",
        "    return pos_probability"
      ],
      "execution_count": 81,
      "outputs": []
    },
    {
      "cell_type": "code",
      "metadata": {
        "colab": {
          "base_uri": "https://localhost:8080/"
        },
        "id": "2CdD4grj0YuT",
        "outputId": "86892c2b-5848-4a91-be7b-0d3a8a1e2b72"
      },
      "source": [
        "sentence = 'the absolute worst movie of all time.'\n",
        "\n",
        "predict(sentence, text_transforms, model)"
      ],
      "execution_count": 82,
      "outputs": [
        {
          "output_type": "execute_result",
          "data": {
            "text/plain": [
              "3.4957501338084285e-09"
            ]
          },
          "metadata": {
            "tags": []
          },
          "execution_count": 82
        }
      ]
    },
    {
      "cell_type": "code",
      "metadata": {
        "colab": {
          "base_uri": "https://localhost:8080/"
        },
        "id": "f3RPiiSs0YuT",
        "outputId": "19b9bcc0-8045-4a49-a9be-6c12dedf317b"
      },
      "source": [
        "sentence = 'one of the greatest films i have ever seen in my life.'\n",
        "\n",
        "predict(sentence, text_transforms, model)"
      ],
      "execution_count": 83,
      "outputs": [
        {
          "output_type": "execute_result",
          "data": {
            "text/plain": [
              "1.0"
            ]
          },
          "metadata": {
            "tags": []
          },
          "execution_count": 83
        }
      ]
    },
    {
      "cell_type": "code",
      "metadata": {
        "colab": {
          "base_uri": "https://localhost:8080/"
        },
        "id": "DAsnGQJb0YuT",
        "outputId": "1036e324-c5c4-4dda-f5fb-41354a53a822"
      },
      "source": [
        "sentence = \"i thought it was going to be one of the greatest films i have ever seen in my life, \\\n",
        "but it was actually the absolute worst movie of all time.\"\n",
        "\n",
        "predict(sentence, text_transforms, model)"
      ],
      "execution_count": 84,
      "outputs": [
        {
          "output_type": "execute_result",
          "data": {
            "text/plain": [
              "0.9154227375984192"
            ]
          },
          "metadata": {
            "tags": []
          },
          "execution_count": 84
        }
      ]
    },
    {
      "cell_type": "code",
      "metadata": {
        "id": "PGVBYuUa0YuU"
      },
      "source": [
        ""
      ],
      "execution_count": 84,
      "outputs": []
    }
  ]
}